{
  "nbformat": 4,
  "nbformat_minor": 0,
  "metadata": {
    "colab": {
      "provenance": [],
      "authorship_tag": "ABX9TyNgy5jOxPubr5RJKDt6vnl3",
      "include_colab_link": true
    },
    "kernelspec": {
      "name": "python3",
      "display_name": "Python 3"
    },
    "language_info": {
      "name": "python"
    }
  },
  "cells": [
    {
      "cell_type": "markdown",
      "metadata": {
        "id": "view-in-github",
        "colab_type": "text"
      },
      "source": [
        "<a href=\"https://colab.research.google.com/github/alyneberriel/pipelines/blob/main/pub_sub_ApacheBeam_base_Flights.ipynb\" target=\"_parent\"><img src=\"https://colab.research.google.com/assets/colab-badge.svg\" alt=\"Open In Colab\"/></a>"
      ]
    },
    {
      "cell_type": "code",
      "execution_count": null,
      "metadata": {
        "id": "6ru55DoB9BGA"
      },
      "outputs": [],
      "source": [
        "pip install --upgrade pip"
      ]
    },
    {
      "cell_type": "code",
      "source": [
        "!pip install apache_beam[interactive]"
      ],
      "metadata": {
        "id": "9yUxs1VU9BgK"
      },
      "execution_count": null,
      "outputs": []
    },
    {
      "cell_type": "code",
      "source": [
        "pip install apache_beam[gcp]"
      ],
      "metadata": {
        "id": "316LbWM39FRC"
      },
      "execution_count": null,
      "outputs": []
    },
    {
      "cell_type": "code",
      "source": [
        "import apache_beam as beam\n",
        "import os\n",
        "from apache_beam.options.pipeline_options import PipelineOptions"
      ],
      "metadata": {
        "id": "s7Rnbz_q93d6"
      },
      "execution_count": null,
      "outputs": []
    },
    {
      "cell_type": "code",
      "source": [
        "pip install google-cloud-pubsub"
      ],
      "metadata": {
        "id": "WU9wJ70wAaCG"
      },
      "execution_count": null,
      "outputs": []
    },
    {
      "cell_type": "code",
      "source": [
        "#SoftWARE que pRoduz mensagens - SIMULADOR DE UM SISTEMA EM STREAMING\n",
        "\n",
        "import csv\n",
        "import time\n",
        "from google.cloud import pubsub_v1\n",
        "import os\n",
        "\n",
        "serviceAccount = '/content/bc23-soulcode-1bb1e93aa2c5.json'\n",
        "os.environ['GOOGLE_APPLICATION_CREDENTIALS'] = serviceAccount\n",
        "\n",
        "topico = 'projects/bc23-soulcode/topics/alyneconsumer01'\n",
        "publisher = pubsub_v1.PublisherClient()\n",
        "\n",
        "entrada = '/content/voos.csv'\n",
        "\n",
        "\n",
        "with open(entrada, 'rb') as file:\n",
        "  next(file)\n",
        "  for row in file:\n",
        "    print('Linha enviada')\n",
        "    publisher.publish(topico,row)\n",
        "    #time.sleep(1)"
      ],
      "metadata": {
        "id": "eYnCqYRfA-JZ"
      },
      "execution_count": null,
      "outputs": []
    },
    {
      "cell_type": "code",
      "source": [
        "#Para puxar as mensagens do topico 1, mesmo sem fazer as transformações das pipeline - apenas como teste de envio e recebimento\n",
        "\n",
        "from google.pubsub_v1.types.pubsub import Subscription\n",
        "import csv\n",
        "import time\n",
        "from google.cloud import pubsub_v1\n",
        "import os\n",
        "\n",
        "serviceAccount = '/content/bc23-soulcode-1bb1e93aa2c5.json'\n",
        "os.environ['GOOGLE_APPLICATION_CREDENTIALS'] = serviceAccount\n",
        "\n",
        "subscription = 'projects/bc23-soulcode/subscriptions/alynesub01'\n",
        "subscriber = pubsub_v1.SubscriberClient()\n",
        "\n",
        "def visualizar_msg(mensagem):\n",
        "  print(('mensagem:{}'.format(mensagem)))\n",
        "  mensagem.ack()\n",
        "\n",
        "subscriber.subscribe(subscription,callback=visualizar_msg)\n",
        "\n",
        "while True:\n",
        "  time.sleep(4)"
      ],
      "metadata": {
        "id": "KaxrOuYFM0FW"
      },
      "execution_count": null,
      "outputs": []
    },
    {
      "cell_type": "code",
      "source": [
        "from apache_beam.io.gcp.bigquery import PCollection\n",
        "#Modelo Streaming apra dataflow - PIPELINE DE TRANFORMAÇÕES QUE O SIMULADOR DE SISTEMA ENVIOU PARA O PUBSUB1 - NECESSARIO ATIVAR O JOB PARA RODAR A PIPELINE\n",
        "# #ele busca as informações no SUB1 tranforma o arquivo pegando os dados que queremos e envia para o topico 2\n",
        "# PEGANDO DO 1 - subscription = 'projects/bc23-soulcode/subscriptions/alynesub01'\n",
        "# SALVANDO DO 2 - saida = 'projects/bc23-soulcode/topics/alyneconsumer02'\n",
        "# Modelo para criar nova tabela com dados agregados de duas pipes\n",
        "\n",
        "import apache_beam as beam\n",
        "import os \n",
        "from apache_beam.options.pipeline_options import PipelineOptions\n",
        "from apache_beam import window\n",
        "\n",
        "pipeline_options ={\n",
        "    'project':'bc23-soulcode',\n",
        "    'runner':'DataflowRunner',\n",
        "    'region':'southamerica-east1',\n",
        "    'staging_location':'gs://bases_tratamento/staging/',\n",
        "    'temp_location':'gs://bases_tratamento/staging/',\n",
        "    'template_location':'gs://bases_tratamento/models/modelo_streaming',\n",
        "    'save_main_session':True,\n",
        "    'streaming':True\n",
        "}\n",
        "serviceAccount = '/content/bc23-soulcode-1bb1e93aa2c5.json'\n",
        "os.environ['GOOGLE_APPLICATION_CREDENTIALS'] = serviceAccount\n",
        "\n",
        "pipeline_options = PipelineOptions.from_dictionary(pipeline_options)\n",
        "\n",
        "p1 = beam.Pipeline(options=pipeline_options)\n",
        "\n",
        "subscription = 'projects/bc23-soulcode/subscriptions/alynesub01'\n",
        "saida = 'projects/bc23-soulcode/topics/alyneconsumer02'\n",
        "\n",
        "class separador(beam.DoFn):\n",
        "  def process(self,record):\n",
        "    return [record.decode(\"utf-8\").split(',')]\n",
        "\n",
        "pcollection_entrada=(\n",
        "  p1 \n",
        "  | 'Ler do topico1' >>beam.io.ReadFromPubSub(subscription=subscription)  \n",
        "\n",
        ")\n",
        "\n",
        "\n",
        "qte_tempo = (\n",
        "    pcollection_entrada\n",
        "    |'Separador do csv' >> beam.ParDo(separador())\n",
        "    |'Filtrar aero'>> beam.Filter(lambda record: float(record[8])>0)\n",
        "    |'Agregar as colunas'>> beam.Map(lambda record: (record[4],float(record[8])))\n",
        "    |'Janela de sliding'>> beam.WindowInto(window.SlidingWindows(15,10))\n",
        "    |'Construir uma nova tabela por minuto' >> beam.CombinePerKey(sum)\n",
        "    #|'Exibir o resultado'>> beam.Map(print)\n",
        "   # |'Gravar o resultado'>> beam.io.WriteToText('voos_minutos.txt')\n",
        ")\n",
        "\n",
        "qte_vezes = (\n",
        "    pcollection_entrada\n",
        "    |'1Separador do csv' >> beam.Map(lambda record: record.split(','))\n",
        "    |'1Filtrar aero'>> beam.Filter(lambda record: float(record[8])>0)\n",
        "    |'1Agregar as colunas'>> beam.Map(lambda record: (record[4],float(record[8])))\n",
        "    |'1Janela de sliding'>> beam.WindowInto(window.SlidingWindows(15,10))\n",
        "    |'1Construir uma nova tabela por qtd' >> beam.combiners.Count.PerKey()\n",
        "    #|'Exibir o resultado'>> beam.Map(print)\n",
        "    #|'Gravar o resultado'>> beam.io.WriteToText('voos_minutos.txt')\n",
        ")\n",
        "\n",
        "tabela = (\n",
        "    {'Quantidade_minutos':qte_tempo,'Numero_de_atrasos':qte_vezes}\n",
        "    |'Agrupar as pernas' >> beam.CoGroupByKey()\n",
        "    |'Converter para PubSub'>> beam.Map(lambda row:(''.join(str(row)).encode('utf-8')))\n",
        "    |'Gravar o resultado'>> beam.io.WriteToPubSub(saida)\n",
        "    \n",
        ")\n",
        "execucao = p1.run()\n",
        "execucao.wait_until_finish()"
      ],
      "metadata": {
        "id": "dDbHDlkk97Ix"
      },
      "execution_count": null,
      "outputs": []
    },
    {
      "cell_type": "code",
      "source": [
        "#Consumo final do pub/sub 2 - SIMULADOR DE UM SISTEMA EM STREAMING BUSCANDO OS DADOS NA ASSINATURA2\n",
        "\n",
        "from google.pubsub_v1.types.pubsub import Subscription\n",
        "import csv\n",
        "import time\n",
        "from google.cloud import pubsub_v1\n",
        "import os\n",
        "\n",
        "serviceAccount = '/content/bc23-soulcode-1bb1e93aa2c5.json'\n",
        "os.environ['GOOGLE_APPLICATION_CREDENTIALS'] = serviceAccount\n",
        "\n",
        "subscription = 'projects/bc23-soulcode/subscriptions/alynesub02'\n",
        "subscriber = pubsub_v1.SubscriberClient()\n",
        "\n",
        "def visualizar_msg(mensagem):\n",
        "  print(('mensagem:{}'.format(mensagem)))\n",
        "  mensagem.ack()\n",
        "  time.sleep(2)\n",
        "\n",
        "subscriber.subscribe(subscription,callback=visualizar_msg)\n",
        "\n",
        "while True:\n",
        "  time.sleep(4)"
      ],
      "metadata": {
        "id": "iDeD6MLTLpAq"
      },
      "execution_count": null,
      "outputs": []
    }
  ]
}